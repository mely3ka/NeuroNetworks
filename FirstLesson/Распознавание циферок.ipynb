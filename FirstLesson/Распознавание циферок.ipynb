{
 "cells": [
  {
   "cell_type": "code",
   "execution_count": 1,
   "metadata": {},
   "outputs": [],
   "source": [
    "import tensorflow as tf"
   ]
  },
  {
   "cell_type": "code",
   "execution_count": 10,
   "metadata": {},
   "outputs": [],
   "source": [
    "import numpy as np"
   ]
  },
  {
   "cell_type": "code",
   "execution_count": 5,
   "metadata": {},
   "outputs": [],
   "source": [
    "import matplotlib.pyplot as plt"
   ]
  },
  {
   "cell_type": "code",
   "execution_count": 21,
   "metadata": {},
   "outputs": [],
   "source": [
    "mnist = tf.keras.datasets.mnist"
   ]
  },
  {
   "cell_type": "code",
   "execution_count": 22,
   "metadata": {},
   "outputs": [],
   "source": [
    "(x_train, y_train),(x_test, y_test) = mnist.load_data()"
   ]
  },
  {
   "cell_type": "markdown",
   "metadata": {},
   "source": [
    "### Создаю модель"
   ]
  },
  {
   "cell_type": "code",
   "execution_count": 31,
   "metadata": {},
   "outputs": [],
   "source": [
    "model = tf.keras.models.Sequential([\n",
    "  tf.keras.layers.Flatten(input_shape=(28, 28)),\n",
    "  tf.keras.layers.Dense(512, activation=tf.nn.relu),\n",
    "  tf.keras.layers.Dropout(0.2),\n",
    "  tf.keras.layers.Dense(10, activation=tf.nn.softmax)\n",
    "])\n",
    "model.compile(optimizer='adam',\n",
    "              loss='sparse_categorical_crossentropy',\n",
    "              metrics=['accuracy'])"
   ]
  },
  {
   "cell_type": "markdown",
   "metadata": {},
   "source": [
    "### Обучение на нормированных данных"
   ]
  },
  {
   "cell_type": "code",
   "execution_count": 32,
   "metadata": {},
   "outputs": [],
   "source": [
    "x_train_norm, x_test_norm = x_train / 255.0, x_test / 255.0"
   ]
  },
  {
   "cell_type": "code",
   "execution_count": 33,
   "metadata": {},
   "outputs": [
    {
     "name": "stdout",
     "output_type": "stream",
     "text": [
      "Epoch 1/5\n",
      "60000/60000 [==============================] - 15s 246us/sample - loss: 0.2210 - acc: 0.9349\n",
      "Epoch 2/5\n",
      "60000/60000 [==============================] - 12s 198us/sample - loss: 0.0971 - acc: 0.9693\n",
      "Epoch 3/5\n",
      "60000/60000 [==============================] - 12s 193us/sample - loss: 0.0707 - acc: 0.9781\n",
      "Epoch 4/5\n",
      "60000/60000 [==============================] - 12s 199us/sample - loss: 0.0531 - acc: 0.9832\n",
      "Epoch 5/5\n",
      "60000/60000 [==============================] - 10s 170us/sample - loss: 0.0419 - acc: 0.9865\n"
     ]
    },
    {
     "data": {
      "text/plain": [
       "<tensorflow.python.keras.callbacks.History at 0x220a1cfddd8>"
      ]
     },
     "execution_count": 33,
     "metadata": {},
     "output_type": "execute_result"
    }
   ],
   "source": [
    "model.fit(x_train_norm, y_train, epochs=5)"
   ]
  },
  {
   "cell_type": "code",
   "execution_count": 37,
   "metadata": {},
   "outputs": [],
   "source": [
    "model.save_weights('weights/NormalizedTrain')"
   ]
  },
  {
   "cell_type": "markdown",
   "metadata": {},
   "source": [
    "#### Тест"
   ]
  },
  {
   "cell_type": "code",
   "execution_count": 40,
   "metadata": {},
   "outputs": [
    {
     "name": "stdout",
     "output_type": "stream",
     "text": [
      "10000/10000 [==============================] - 1s 91us/sample - loss: 0.0623 - acc: 0.9810\n"
     ]
    },
    {
     "data": {
      "text/plain": [
       "[0.06232640705553349, 0.981]"
      ]
     },
     "execution_count": 40,
     "metadata": {},
     "output_type": "execute_result"
    }
   ],
   "source": [
    "model.evaluate (x_test_norm, y_test)"
   ]
  },
  {
   "cell_type": "code",
   "execution_count": 41,
   "metadata": {},
   "outputs": [
    {
     "name": "stdout",
     "output_type": "stream",
     "text": [
      "10000/10000 [==============================] - 1s 75us/sample - loss: 11.4373 - acc: 0.9816\n"
     ]
    },
    {
     "data": {
      "text/plain": [
       "[11.437280308949946, 0.9816]"
      ]
     },
     "execution_count": 41,
     "metadata": {},
     "output_type": "execute_result"
    }
   ],
   "source": [
    "model.evaluate (x_test_unnorm, y_test)  #обученная на нормированных данных сеть показала даже лучший результат на ненормированных данных"
   ]
  },
  {
   "cell_type": "markdown",
   "metadata": {},
   "source": [
    "#### Дообучение на ненормированных данных"
   ]
  },
  {
   "cell_type": "code",
   "execution_count": 42,
   "metadata": {},
   "outputs": [
    {
     "name": "stdout",
     "output_type": "stream",
     "text": [
      "Epoch 1/5\n",
      "60000/60000 [==============================] - 16s 265us/sample - loss: 10.2253 - acc: 0.9734\n",
      "Epoch 2/5\n",
      "60000/60000 [==============================] - 15s 250us/sample - loss: 4.0272 - acc: 0.9805\n",
      "Epoch 3/5\n",
      "60000/60000 [==============================] - 16s 260us/sample - loss: 3.4002 - acc: 0.9812\n",
      "Epoch 4/5\n",
      "60000/60000 [==============================] - 16s 263us/sample - loss: 2.8415 - acc: 0.9820\n",
      "Epoch 5/5\n",
      "60000/60000 [==============================] - 16s 265us/sample - loss: 2.8921 - acc: 0.9813\n"
     ]
    }
   ],
   "source": [
    "model.fit(x_train_unnorm, y_train, epochs=5)\n",
    "model.save_weights('weights/NormalizedTrainUnnormalizedTrain')"
   ]
  },
  {
   "cell_type": "markdown",
   "metadata": {},
   "source": [
    "#### Тест"
   ]
  },
  {
   "cell_type": "code",
   "execution_count": 43,
   "metadata": {},
   "outputs": [
    {
     "name": "stdout",
     "output_type": "stream",
     "text": [
      "10000/10000 [==============================] - 2s 155us/sample - loss: 0.1646 - acc: 0.9683\n"
     ]
    },
    {
     "data": {
      "text/plain": [
       "[0.16458207211494447, 0.9683]"
      ]
     },
     "execution_count": 43,
     "metadata": {},
     "output_type": "execute_result"
    }
   ],
   "source": [
    "model.evaluate (x_test_norm, y_test)"
   ]
  },
  {
   "cell_type": "code",
   "execution_count": 44,
   "metadata": {},
   "outputs": [
    {
     "name": "stdout",
     "output_type": "stream",
     "text": [
      "10000/10000 [==============================] - 1s 120us/sample - loss: 6.3362 - acc: 0.9731\n"
     ]
    },
    {
     "data": {
      "text/plain": [
       "[6.336202246037589, 0.9731]"
      ]
     },
     "execution_count": 44,
     "metadata": {},
     "output_type": "execute_result"
    }
   ],
   "source": [
    "model.evaluate (x_test_unnorm, y_test) #точность после дообучения даже снизилась"
   ]
  },
  {
   "cell_type": "markdown",
   "metadata": {},
   "source": [
    "### Обучение на ненормированных данных"
   ]
  },
  {
   "cell_type": "code",
   "execution_count": 27,
   "metadata": {},
   "outputs": [],
   "source": [
    "x_train_unnorm, x_test_unnorm = x_train, x_test"
   ]
  },
  {
   "cell_type": "code",
   "execution_count": 48,
   "metadata": {},
   "outputs": [
    {
     "name": "stdout",
     "output_type": "stream",
     "text": [
      "Epoch 1/5\n",
      "60000/60000 [==============================] - 16s 273us/sample - loss: 2.6503 - acc: 0.9829\n",
      "Epoch 2/5\n",
      "60000/60000 [==============================] - 15s 253us/sample - loss: 2.1327 - acc: 0.9842\n",
      "Epoch 3/5\n",
      "60000/60000 [==============================] - 15s 245us/sample - loss: 2.2594 - acc: 0.9847\n",
      "Epoch 4/5\n",
      "60000/60000 [==============================] - 16s 262us/sample - loss: 2.2074 - acc: 0.9853\n",
      "Epoch 5/5\n",
      "60000/60000 [==============================] - 17s 279us/sample - loss: 2.1682 - acc: 0.9844\n"
     ]
    },
    {
     "data": {
      "text/plain": [
       "<tensorflow.python.keras.callbacks.History at 0x220a3273588>"
      ]
     },
     "execution_count": 48,
     "metadata": {},
     "output_type": "execute_result"
    }
   ],
   "source": [
    "model.fit(x_train_unnorm,y_train, epochs = 5)"
   ]
  },
  {
   "cell_type": "markdown",
   "metadata": {},
   "source": [
    "#### Тест"
   ]
  },
  {
   "cell_type": "code",
   "execution_count": 49,
   "metadata": {},
   "outputs": [
    {
     "name": "stdout",
     "output_type": "stream",
     "text": [
      "10000/10000 [==============================] - 1s 124us/sample - loss: 0.1674 - acc: 0.9685\n"
     ]
    },
    {
     "data": {
      "text/plain": [
       "[0.1673669225871563, 0.9685]"
      ]
     },
     "execution_count": 49,
     "metadata": {},
     "output_type": "execute_result"
    }
   ],
   "source": [
    "model.evaluate (x_test_norm, y_test)"
   ]
  },
  {
   "cell_type": "code",
   "execution_count": 50,
   "metadata": {},
   "outputs": [
    {
     "name": "stdout",
     "output_type": "stream",
     "text": [
      "10000/10000 [==============================] - 1s 116us/sample - loss: 6.8863 - acc: 0.9761\n"
     ]
    },
    {
     "data": {
      "text/plain": [
       "[6.886295448879193, 0.9761]"
      ]
     },
     "execution_count": 50,
     "metadata": {},
     "output_type": "execute_result"
    }
   ],
   "source": [
    "model.evaluate (x_test_unnorm, y_test)"
   ]
  },
  {
   "cell_type": "markdown",
   "metadata": {},
   "source": [
    "#### Дообучение на нормированных данных"
   ]
  },
  {
   "cell_type": "code",
   "execution_count": 51,
   "metadata": {},
   "outputs": [
    {
     "name": "stdout",
     "output_type": "stream",
     "text": [
      "Epoch 1/5\n",
      "60000/60000 [==============================] - 16s 260us/sample - loss: 0.0746 - acc: 0.9848\n",
      "Epoch 2/5\n",
      "60000/60000 [==============================] - 13s 216us/sample - loss: 0.0392 - acc: 0.9908\n",
      "Epoch 3/5\n",
      "60000/60000 [==============================] - 12s 197us/sample - loss: 0.0285 - acc: 0.9924\n",
      "Epoch 4/5\n",
      "60000/60000 [==============================] - 14s 228us/sample - loss: 0.0217 - acc: 0.9937\n",
      "Epoch 5/5\n",
      "60000/60000 [==============================] - 17s 276us/sample - loss: 0.0177 - acc: 0.9945\n"
     ]
    },
    {
     "data": {
      "text/plain": [
       "<tensorflow.python.keras.callbacks.History at 0x220a32f9908>"
      ]
     },
     "execution_count": 51,
     "metadata": {},
     "output_type": "execute_result"
    }
   ],
   "source": [
    "model.fit(x_train_norm,y_train, epochs = 5)"
   ]
  },
  {
   "cell_type": "markdown",
   "metadata": {},
   "source": [
    "#### Тест"
   ]
  },
  {
   "cell_type": "code",
   "execution_count": 52,
   "metadata": {},
   "outputs": [
    {
     "name": "stdout",
     "output_type": "stream",
     "text": [
      "10000/10000 [==============================] - 1s 98us/sample - loss: 0.0551 - acc: 0.98520s - loss: 0.0551 - acc: 0.98\n"
     ]
    },
    {
     "data": {
      "text/plain": [
       "[0.0550924160878174, 0.9852]"
      ]
     },
     "execution_count": 52,
     "metadata": {},
     "output_type": "execute_result"
    }
   ],
   "source": [
    "model.evaluate (x_test_norm, y_test)"
   ]
  },
  {
   "cell_type": "code",
   "execution_count": 53,
   "metadata": {},
   "outputs": [
    {
     "name": "stdout",
     "output_type": "stream",
     "text": [
      "10000/10000 [==============================] - 1s 86us/sample - loss: 8.5750 - acc: 0.9847\n"
     ]
    },
    {
     "data": {
      "text/plain": [
       "[8.575047218542728, 0.9847]"
      ]
     },
     "execution_count": 53,
     "metadata": {},
     "output_type": "execute_result"
    }
   ],
   "source": [
    "model.evaluate (x_test_unnorm, y_test)"
   ]
  },
  {
   "cell_type": "markdown",
   "metadata": {},
   "source": [
    "#### Нормализация"
   ]
  },
  {
   "cell_type": "code",
   "execution_count": 59,
   "metadata": {},
   "outputs": [],
   "source": [
    "x_train_normalized = tf.keras.utils.normalize(x_train)\n",
    "x_test_normalized = tf.keras.utils.normalize(x_test)"
   ]
  },
  {
   "cell_type": "code",
   "execution_count": 60,
   "metadata": {},
   "outputs": [
    {
     "name": "stdout",
     "output_type": "stream",
     "text": [
      "Epoch 1/5\n",
      "60000/60000 [==============================] - 21s 342us/sample - loss: 0.0410 - acc: 0.9884\n",
      "Epoch 2/5\n",
      "60000/60000 [==============================] - 19s 314us/sample - loss: 0.0286 - acc: 0.9909\n",
      "Epoch 3/5\n",
      "60000/60000 [==============================] - 17s 282us/sample - loss: 0.0235 - acc: 0.9926\n",
      "Epoch 4/5\n",
      "60000/60000 [==============================] - 22s 371us/sample - loss: 0.0184 - acc: 0.9944\n",
      "Epoch 5/5\n",
      "60000/60000 [==============================] - 24s 399us/sample - loss: 0.0172 - acc: 0.9945\n"
     ]
    },
    {
     "data": {
      "text/plain": [
       "<tensorflow.python.keras.callbacks.History at 0x220a2d27b00>"
      ]
     },
     "execution_count": 60,
     "metadata": {},
     "output_type": "execute_result"
    }
   ],
   "source": [
    "model.fit(x_train_normalized, y_train, epochs = 5)"
   ]
  },
  {
   "cell_type": "code",
   "execution_count": 62,
   "metadata": {},
   "outputs": [
    {
     "name": "stdout",
     "output_type": "stream",
     "text": [
      "10000/10000 [==============================] - 2s 203us/sample - loss: 0.0669 - acc: 0.9823\n"
     ]
    },
    {
     "data": {
      "text/plain": [
       "[0.06694448091578452, 0.9823]"
      ]
     },
     "execution_count": 62,
     "metadata": {},
     "output_type": "execute_result"
    }
   ],
   "source": [
    "model.evaluate(x_test_normalized, y_test)"
   ]
  },
  {
   "cell_type": "code",
   "execution_count": 63,
   "metadata": {},
   "outputs": [
    {
     "name": "stdout",
     "output_type": "stream",
     "text": [
      "10000/10000 [==============================] - 2s 185us/sample - loss: 25.6307 - acc: 0.9827\n"
     ]
    },
    {
     "data": {
      "text/plain": [
       "[25.6307317265552, 0.9827]"
      ]
     },
     "execution_count": 63,
     "metadata": {},
     "output_type": "execute_result"
    }
   ],
   "source": [
    "model.evaluate(x_test, y_test)"
   ]
  },
  {
   "cell_type": "markdown",
   "metadata": {},
   "source": [
    "###### Выводs: \n",
    "1) Лучше обучать сеть сначала для новых данных, чем дообучивать обученную на других данных\n",
    "\n",
    "2) Стандартный normalizer показывает лучшую точность во время обучения и примерно такую же на тестовых данных"
   ]
  }
 ],
 "metadata": {
  "kernelspec": {
   "display_name": "Python 3",
   "language": "python",
   "name": "python3"
  },
  "language_info": {
   "codemirror_mode": {
    "name": "ipython",
    "version": 3
   },
   "file_extension": ".py",
   "mimetype": "text/x-python",
   "name": "python",
   "nbconvert_exporter": "python",
   "pygments_lexer": "ipython3",
   "version": "3.7.3"
  }
 },
 "nbformat": 4,
 "nbformat_minor": 2
}
